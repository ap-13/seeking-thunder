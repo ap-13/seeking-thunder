{
 "cells": [
  {
   "cell_type": "code",
   "execution_count": 1,
   "id": "3b888f3a",
   "metadata": {},
   "outputs": [],
   "source": [
    "import numpy as np\n",
    "import pandas as pd\n",
    "import matplotlib.pyplot as plt\n",
    "import glob\n",
    "import json\n",
    "import difflib\n",
    "import yfinance as yf\n",
    "from sklearn.linear_model import LinearRegression\n",
    "\n",
    "days_in_quarter = 63"
   ]
  },
  {
   "cell_type": "code",
   "execution_count": 2,
   "id": "9f8bf17d",
   "metadata": {},
   "outputs": [],
   "source": [
    "# This part of the code is very ad-hoc, someone should clean it up---may be necessary to tweek data files to make it cleaner.\n",
    "\n",
    "file_list = ['data\\\\S000006408.csv', 'data\\\\S000006409.csv', 'data\\\\S000006410.csv', 'data\\\\S000006411.csv', 'data\\\\S000006412.csv', 'data\\\\S000006413.csv', 'data\\\\S000006414.csv', 'data\\\\S000006415.csv', 'data\\\\S000006416.csv', 'data\\\\S000051152.csv', 'data\\\\S000062095.csv']\n",
    "\n",
    "series_to_ticker_mapping = {\n",
    "    'S000006408': 'XLY',\n",
    "    'S000006409': 'XLP',\n",
    "    'S000006410': 'XLE',\n",
    "    'S000006411': 'XLF',\n",
    "    'S000006412': 'XLV',\n",
    "    'S000006413': 'XLI',\n",
    "    'S000006414': 'XLB',\n",
    "    'S000006415': 'XLK',\n",
    "    'S000006416': 'XLU',\n",
    "    'S000051152': 'XLRE',\n",
    "    'S000062095': 'XLC'\n",
    "}\n",
    "\n",
    "start_date = np.datetime64('2019-10-01')\n",
    "end_date = np.datetime64('2024-04-01')\n",
    "\n",
    "holdings_per_day = {}\n",
    "\n",
    "for file_name in file_list:\n",
    "    file_name = file_name.split('\\\\')[-1]\n",
    "    series = file_name.split('.')[0]\n",
    "    ticker = series_to_ticker_mapping[series]\n",
    "    \n",
    "    # Read the CSV\n",
    "    df = pd.read_csv(f'data/{file_name}')\n",
    "    df.index = df['Tickers']\n",
    "    df = df.iloc[:,:3:-1]\n",
    "    \n",
    "    # This is an ad-hoc fix for the fact that some tickers are duplicated because the associated company name\n",
    "    # label is not consistent (e.g. LOW in the ETF XLY)\n",
    "    df = df.groupby(df.index).sum()\n",
    "    \n",
    "    df.columns = pd.to_datetime(df.columns)\n",
    "    \n",
    "    series_holdings_per_day = {}\n",
    "\n",
    "    date_range = np.arange(start_date,end_date)\n",
    "\n",
    "    for date in date_range:\n",
    "        series_holdings_per_day[date] = df[df.columns[df.columns < date].max()]\n",
    "\n",
    "    holdings_per_day[ticker] = pd.DataFrame(series_holdings_per_day).transpose() != 0\n",
    "    \n",
    "    holdings_per_day[ticker] = holdings_per_day[ticker].where(holdings_per_day[ticker] != 0,np.nan)\n"
   ]
  },
  {
   "cell_type": "code",
   "execution_count": 3,
   "id": "6b0f2fc0",
   "metadata": {},
   "outputs": [],
   "source": [
    "def returns(ticker):\n",
    "    data = yf.Ticker(ticker).history(period='max')\n",
    "    returns = (data['Close'] - data['Close'].shift(1)) / data['Close'].shift(1)\n",
    "    return returns\n",
    "\n",
    "def log_returns(ticker):\n",
    "    data = yf.Ticker(ticker).history(period='max')\n",
    "    log_returns = np.log(data.Close / data.Close.shift(1))\n",
    "    return log_returns\n",
    "\n",
    "def betas(stock, etf, start_date, end_date, L_min=100, halflife=days_in_quarter):\n",
    "    \n",
    "    # L_min specifies how many days the stock must have been listed to calculate the beta coefficient.  \n",
    "    # If the stock is quite newly listed, then the calculated beta value is unstable and not very meaningful \n",
    "    # (and so we will set beta = np.nan).  \n",
    "    \n",
    "    times = np.arange(start_date,end_date)#pd.date_range(start=start_date, end=end_date, freq='D')\n",
    "    betas = []\n",
    "    \n",
    "    stock_returns = returns(stock)\n",
    "    etf_returns = returns(etf)\n",
    "    \n",
    "    two_stocks = pd.DataFrame({stock: stock_returns, etf: etf_returns}).dropna()\n",
    "    two_stocks.index = two_stocks.index.tz_localize(None)\n",
    "    \n",
    "    for t in times:\n",
    "         \n",
    "        # Include only columns through t-1 so that the beta on day t depends only on returns from before day t:\n",
    "        \n",
    "        etf_t = two_stocks.loc[:(t-1),etf].values.reshape(-1, 1)\n",
    "        stock_t = two_stocks.loc[:(t-1),stock].values\n",
    "\n",
    "        L = len(stock_t)\n",
    "        \n",
    "        alpha = 0.5 ** (1 / halflife)\n",
    "        \n",
    "        # Calculate exponentially decaying weights for linear regression, so that we weight more \n",
    "        # recent returns more heavily.\n",
    "        \n",
    "        weights = alpha ** (L - 1 - np.arange(L))\n",
    "        weights /= weights.sum()\n",
    "        \n",
    "        # Compute regression coefficient beta, which measures how much the stock returns \n",
    "        # are expected to move in response to ETF returns.  Stocks in an ETF with larger betas\n",
    "        # contribute more to the volatility of the ETF.  Intuitively, stocks with smaller beta\n",
    "        # values are likely less related to the themes surrounding most high-volume selloffs of the ETF.\n",
    "              \n",
    "        model = LinearRegression()\n",
    "        \n",
    "        if L > L_min:\n",
    "            model.fit(etf_t, stock_t, sample_weight=weights)\n",
    "            beta = model.coef_[0]\n",
    "        else:\n",
    "            beta = np.nan\n",
    "        \n",
    "        betas.append(beta)\n",
    "    \n",
    "    return pd.Series(data = betas, index = times)"
   ]
  },
  {
   "cell_type": "markdown",
   "id": "350817be",
   "metadata": {},
   "source": [
    "Note that a beta value of np.nan can mean two different things: \n",
    "(1) The stock wasn't part of the ETF that quarter.\n",
    "(2) The stock was too newly listed to get a robust beta value."
   ]
  },
  {
   "cell_type": "code",
   "execution_count": 4,
   "id": "1b5547b5",
   "metadata": {},
   "outputs": [
    {
     "name": "stderr",
     "output_type": "stream",
     "text": [
      "Failed to get ticker 'AAP' reason: HTTPSConnectionPool(host='fc.yahoo.com', port=443): Max retries exceeded with url: / (Caused by SSLError(SSLCertVerificationError(1, '[SSL: CERTIFICATE_VERIFY_FAILED] certificate verify failed: unable to get local issuer certificate (_ssl.c:1006)')))\n",
      "AAP: No timezone found, symbol may be delisted\n",
      "Failed to get ticker 'XLY' reason: HTTPSConnectionPool(host='fc.yahoo.com', port=443): Max retries exceeded with url: / (Caused by SSLError(SSLCertVerificationError(1, '[SSL: CERTIFICATE_VERIFY_FAILED] certificate verify failed: unable to get local issuer certificate (_ssl.c:1006)')))\n",
      "XLY: No timezone found, symbol may be delisted\n"
     ]
    },
    {
     "ename": "AttributeError",
     "evalue": "'Index' object has no attribute 'tz_localize'",
     "output_type": "error",
     "traceback": [
      "\u001b[0;31m---------------------------------------------------------------------------\u001b[0m",
      "\u001b[0;31mAttributeError\u001b[0m                            Traceback (most recent call last)",
      "Cell \u001b[0;32mIn[4], line 5\u001b[0m\n\u001b[1;32m      3\u001b[0m \u001b[38;5;28;01mfor\u001b[39;00m etf \u001b[38;5;129;01min\u001b[39;00m holdings_per_day\u001b[38;5;241m.\u001b[39mkeys():\n\u001b[1;32m      4\u001b[0m     df \u001b[38;5;241m=\u001b[39m holdings_per_day[etf]\n\u001b[0;32m----> 5\u001b[0m     betas_per_day[etf] \u001b[38;5;241m=\u001b[39m pd\u001b[38;5;241m.\u001b[39mDataFrame({stock: betas(stock,etf,start_date,end_date) \u001b[38;5;241m*\u001b[39m df[stock] \u001b[38;5;28;01mfor\u001b[39;00m stock \u001b[38;5;129;01min\u001b[39;00m df\u001b[38;5;241m.\u001b[39mcolumns})\n",
      "Cell \u001b[0;32mIn[4], line 5\u001b[0m, in \u001b[0;36m<dictcomp>\u001b[0;34m(.0)\u001b[0m\n\u001b[1;32m      3\u001b[0m \u001b[38;5;28;01mfor\u001b[39;00m etf \u001b[38;5;129;01min\u001b[39;00m holdings_per_day\u001b[38;5;241m.\u001b[39mkeys():\n\u001b[1;32m      4\u001b[0m     df \u001b[38;5;241m=\u001b[39m holdings_per_day[etf]\n\u001b[0;32m----> 5\u001b[0m     betas_per_day[etf] \u001b[38;5;241m=\u001b[39m pd\u001b[38;5;241m.\u001b[39mDataFrame({stock: betas(stock,etf,start_date,end_date) \u001b[38;5;241m*\u001b[39m df[stock] \u001b[38;5;28;01mfor\u001b[39;00m stock \u001b[38;5;129;01min\u001b[39;00m df\u001b[38;5;241m.\u001b[39mcolumns})\n",
      "Cell \u001b[0;32mIn[3], line 24\u001b[0m, in \u001b[0;36mbetas\u001b[0;34m(stock, etf, start_date, end_date, L_min, halflife)\u001b[0m\n\u001b[1;32m     21\u001b[0m etf_returns \u001b[38;5;241m=\u001b[39m returns(etf)\n\u001b[1;32m     23\u001b[0m two_stocks \u001b[38;5;241m=\u001b[39m pd\u001b[38;5;241m.\u001b[39mDataFrame({stock: stock_returns, etf: etf_returns})\u001b[38;5;241m.\u001b[39mdropna()\n\u001b[0;32m---> 24\u001b[0m two_stocks\u001b[38;5;241m.\u001b[39mindex \u001b[38;5;241m=\u001b[39m two_stocks\u001b[38;5;241m.\u001b[39mindex\u001b[38;5;241m.\u001b[39mtz_localize(\u001b[38;5;28;01mNone\u001b[39;00m)\n\u001b[1;32m     26\u001b[0m \u001b[38;5;28;01mfor\u001b[39;00m t \u001b[38;5;129;01min\u001b[39;00m times:\n\u001b[1;32m     27\u001b[0m      \n\u001b[1;32m     28\u001b[0m     \u001b[38;5;66;03m# Include only columns through t-1 so that the beta on day t depends only on returns from before day t:\u001b[39;00m\n\u001b[1;32m     30\u001b[0m     etf_t \u001b[38;5;241m=\u001b[39m two_stocks\u001b[38;5;241m.\u001b[39mloc[:(t\u001b[38;5;241m-\u001b[39m\u001b[38;5;241m1\u001b[39m),etf]\u001b[38;5;241m.\u001b[39mvalues\u001b[38;5;241m.\u001b[39mreshape(\u001b[38;5;241m-\u001b[39m\u001b[38;5;241m1\u001b[39m, \u001b[38;5;241m1\u001b[39m)\n",
      "\u001b[0;31mAttributeError\u001b[0m: 'Index' object has no attribute 'tz_localize'"
     ]
    }
   ],
   "source": [
    "betas_per_day = {}\n",
    "\n",
    "for etf in holdings_per_day.keys():\n",
    "    df = holdings_per_day[etf]\n",
    "    betas_per_day[etf] = pd.DataFrame({stock: betas(stock,etf,start_date,end_date) * df[stock] for stock in df.columns})"
   ]
  },
  {
   "cell_type": "code",
   "execution_count": null,
   "id": "50344a34",
   "metadata": {},
   "outputs": [],
   "source": []
  }
 ],
 "metadata": {
  "kernelspec": {
   "display_name": "Python 3 (ipykernel)",
   "language": "python",
   "name": "python3"
  },
  "language_info": {
   "codemirror_mode": {
    "name": "ipython",
    "version": 3
   },
   "file_extension": ".py",
   "mimetype": "text/x-python",
   "name": "python",
   "nbconvert_exporter": "python",
   "pygments_lexer": "ipython3",
   "version": "3.11.7"
  }
 },
 "nbformat": 4,
 "nbformat_minor": 5
}
