{
 "cells": [
  {
   "cell_type": "code",
   "execution_count": 172,
   "id": "c337505d",
   "metadata": {},
   "outputs": [],
   "source": [
    "import numpy as np\n",
    "import pandas as pd\n",
    "import matplotlib.pyplot as plt\n",
    "import glob\n",
    "import json\n",
    "import difflib\n",
    "import yfinance as yf\n",
    "from sklearn.linear_model import LinearRegression\n",
    "from beta_values import *\n",
    "\n",
    "days_in_quarter = 63"
   ]
  },
  {
   "cell_type": "markdown",
   "id": "271499c0",
   "metadata": {},
   "source": [
    "We describe our strategy in four parts:\n",
    "\n",
    "(1)  **When to invest?**\n",
    "\n",
    "The idea of our strategy is to invest after a day during which the ETF volume is statistically large and the ETF volume is negative.  We compute these days in `high_volume_neg_return_days` below. The reason we focus on these days is that, on these days, the correlations among the stocks in the ETF is abnormally high.  These large selloffs are often a response to a large macro shock that affects many of the stocks within the ETF.  The idea of our strategy is based on the theory that, when these large ETF selloffs happen, some stocks in the ETF are \"dragged down\" along with the ETF even though, from a fundamental perspective, they should be less exposed to the macro shock that drove the selloff.\n",
    "\n",
    "(2)  **Which stocks to invest in?**\n",
    "\n",
    "We want to invest in stocks we label *outsider* stocks.  Roughly speaking, these are stocks within an ETF that respond less strongly to the movements of the ETF.  The intuition is that these outsider stocks are generally less likely to be affected by the macro developments that affect the ETF, and so these are the stocks whose prices are most likely to be distorted during large selloffs of the ETF.\n",
    "\n",
    "How do we precisely measure this notion of *outsider* stock?  \n",
    "\n",
    "To measure the stocks that respond less strongly to the movements of the ETF, we compute the coefficient $\\beta$ of the exponentially weighted linear regression of the returns of the stock against the returns of the ETF.  (The reason we introduce this exponential weighting is that we want to weight more recent returns more heavily than less recent ones.  We used the same weighting approach in our calculation of the ETF volume spikes above.)  \n",
    "\n",
    "This coefficient $\\beta$ is called the *ETF beta* of the stock.  Note that the ETF beta changes from day to day, since we must update our regression model each day based on the new day's returns.  In `betas_each_day` (constructed in the notebook `beta_values.py`) we compile, for each ETF, a dataframe that contains these ETF betas for each stock and each day during the time period we are studying.\n",
    "\n",
    "Once we have computed these ETF betas, we define the ETF's outsider stocks on a given day as the stocks whose ETF betas that day fall in the bottom 10 percent. In `outsider_stocks`, we assign a value of `True` to a stock on a given day if that stock is an outsider to its ETF on that day.\n",
    "\n",
    "(3)  **How do we measure the performance of our choice of stock against the ETF?**\n",
    "\n",
    "Once we choose a day $D$ and a stock $S$ within an ETF, we must determine the following: if we invested in the stock $S$ at the *close* of day $D$ and held it for 40 days, how does the stock's return $r_S$ compare with the return $r_{ETF}$ of the ETF over that same period?  Since we want to measure our portfolio's alpha compared with the ETF, we leverage our portfolio with the ETF beta value $\\beta_S$ of the stock on day $D$.  Therefore, we define the alpha of the stock's 40-day return versus the ETF as $r_S/\\beta_S - r_{ETF}$.  These alphas are computed in `stock_40_day_alpha`.\n",
    "\n",
    "We emphasize that `stock_40_day_alpha` does not specify *which* stocks to invest in, or *when* to invest in these stocks.  It tells us that *if* we invest in this stock following this trading day, what is the associated alpha value: i.e., to what degree does this stock's leveraged 40-day return outperform that of the ETF.\n",
    "\n",
    "(4)  **Putting it all together.**\n",
    "\n",
    "Now that we have determined which stocks to invest in and when, and how to measure the performance of our investment choice, we can combine these steps to evaluate the performance of our overall strategy.  In `portfolio_alphas`, we multiply each pair of dataframes in `outsider_stocks` and `stock_40_day_alpha` to obtain the alphas associated to each of the investments dictated by our strategy.  In `portfolio_average_alphas`, we average over each of these dataframes to get, for each ETF, the average value of alpha for our investments in that ETF's stocks."
   ]
  },
  {
   "cell_type": "code",
   "execution_count": 173,
   "id": "edebbac1",
   "metadata": {},
   "outputs": [],
   "source": [
    "# List of ETFs we consider in this work.\n",
    "\n",
    "etf_tickers = {\n",
    "    'XLY',\n",
    "    'XLP',\n",
    "    'XLE',\n",
    "    'XLF',\n",
    "    'XLV',\n",
    "    'XLI',\n",
    "    'XLB',\n",
    "    'XLK',\n",
    "    'XLU',\n",
    "    'XLRE',\n",
    "    'XLC'\n",
    "}"
   ]
  },
  {
   "cell_type": "markdown",
   "id": "0f663fa0",
   "metadata": {},
   "source": [
    "(1)  **When to invest?**  We calculate the days with statistically high ETF volume and negative ETF returns.  We store this information in `high_volume_neg_return_days`."
   ]
  },
  {
   "cell_type": "code",
   "execution_count": 3,
   "id": "99acc585",
   "metadata": {},
   "outputs": [],
   "source": [
    "# This code retrieves the ETF beta values of the stocks in each ETF compiled in `beta_values.py`.\n",
    "# Note that the ETF beta on a given day depends only on returns from previous days (not including that day).\n",
    "\n",
    "betas_per_day = {}\n",
    "\n",
    "for etf in etf_tickers:\n",
    "    df = pd.read_csv(f\"data/{etf}_betas_per_day.csv\")\n",
    "    df.set_index(df.columns[0],inplace=True)\n",
    "    df.index.name = 'Date'\n",
    "    df.index = pd.to_datetime(df.index)\n",
    "    betas_per_day[etf] = df"
   ]
  },
  {
   "cell_type": "code",
   "execution_count": 4,
   "id": "db84634a",
   "metadata": {},
   "outputs": [],
   "source": [
    "# Function to calculate when the volume of a stock or ETF is \"statistically large\".\n",
    "\n",
    "def exp_weighted_z_score(data,halflife):\n",
    "    return (data - data.ewm(halflife=halflife).mean().shift(1)) / data.ewm(halflife=halflife).std().shift(1) \n",
    "\n",
    "def high_volume_negative_return(ticker, threshold=3, halflife=days_in_quarter):\n",
    "  \n",
    "    negative_returns = returns(ticker) < 0\n",
    "    \n",
    "    vol = yf.Ticker(ticker).history(period='max').Volume.tz_localize(None)    \n",
    "    vol_z_scores = exp_weighted_z_score(vol,halflife=halflife)\n",
    "    \n",
    "    high_vol_neg_return = (vol_z_scores >= threshold) * negative_returns\n",
    "    \n",
    "    return high_vol_neg_return\n",
    "\n",
    "high_volume_neg_return_days = {}\n",
    "\n",
    "for etf in etf_tickers:\n",
    "    high_volume_neg_return_days[etf] = high_volume_negative_return(etf)"
   ]
  },
  {
   "cell_type": "markdown",
   "id": "ea1fc721",
   "metadata": {},
   "source": [
    "(2)  **Which stocks to invest in?**  We calculate each day's \"outsider stocks\" in each ETF.  (Note that the outsider stocks for a given day is determined by information from *before* that day.)  We store this information in `outsider_stocks`."
   ]
  },
  {
   "cell_type": "code",
   "execution_count": 5,
   "id": "33e1fcb5",
   "metadata": {},
   "outputs": [],
   "source": [
    "# We define the outsider stocks in an ETF on a given day as those whose ETF betas that day \n",
    "# are in the bottom 10 percent.\n",
    "\n",
    "outsider_stocks = {}\n",
    "\n",
    "def is_in_lower_quantile(row,level=0.1):\n",
    "    threshold = row.quantile(level)\n",
    "    return row <= threshold\n",
    "\n",
    "for etf in etf_tickers:\n",
    "    outsider_stocks[etf] = betas_per_day[etf].apply(is_in_lower_quantile, axis=1)"
   ]
  },
  {
   "cell_type": "markdown",
   "id": "9fb71e1b",
   "metadata": {},
   "source": [
    "(3)  **How do we measure the performance of our choice of stock against the ETF?**  \n",
    "\n",
    "We compute the alpha from investing in a stock at the close of the given day nad holding for 40 days, leveraged against the ETF, compared to investing in the ETF for those 40 days.  We store the results in `stock_40_day_alpha`."
   ]
  },
  {
   "cell_type": "code",
   "execution_count": 6,
   "id": "1d161d76",
   "metadata": {},
   "outputs": [],
   "source": [
    "holding_period = 40 \n",
    "\n",
    "# One can test other values to see what happens when you instead hold the stock for a different \n",
    "# number of days.  We are using the time horizon of 40 days based on the testing in Lynch et al.'s work.\n",
    "# In future analysis, it would be interesting to explore varying this value based on developments \n",
    "# in the sector and in the overall market. "
   ]
  },
  {
   "cell_type": "code",
   "execution_count": 150,
   "id": "8b314dc4",
   "metadata": {},
   "outputs": [],
   "source": [
    "stock_log_returns = {}\n",
    "stock_40_day_returns = {}\n",
    "stock_40_day_alpha = {}\n",
    "\n",
    "for etf in etf_tickers:      \n",
    "\n",
    "    # Compile tickers of both the ETF and all stocks in the ETF's holdings from the time period being considered\n",
    "    tickers = []\n",
    "    tickers.append(etf)\n",
    "    stocks = holdings_per_day[etf].columns\n",
    "    tickers.extend(stocks.values.tolist())\n",
    "\n",
    "    # Compute the log returns of each of these tickers during the time period\n",
    "    \n",
    "    start_date = holdings_per_day[etf].index[0]\n",
    "    end_date = holdings_per_day[etf].index[-1]\n",
    "    \n",
    "    etf_stock_log_returns = pd.DataFrame({ticker: log_returns(ticker,start_date=start_date,end_date=end_date) for ticker in tickers})\n",
    "    \n",
    "    # Compute, for each day, the returns from buying the stock AFTER that day and holding for 40 days\n",
    "    \n",
    "    etf_stock_40_day_returns = np.exp(sum(etf_stock_log_returns.shift(-i) for i in range(1,1 + holding_period))) - 1\n",
    "    \n",
    "    # Compute the difference between the stock's 40-day return that we just computed with the corresponding 40-day return of the ETF, leveraging by the stock's ETF beta\n",
    "    \n",
    "    df = etf_stock_40_day_returns[stocks].copy()\n",
    "\n",
    "    for stock in stocks:\n",
    "        df[stock] = (df[stock] / betas_per_day[etf][stock]) - etf_stock_40_day_returns[etf]\n",
    "        \n",
    "    df = df.dropna(how='all')\n",
    "       \n",
    "    etf_stock_40_day_alpha = df\n",
    "       \n",
    "    # Add all the information just computed to different dictionaries, indexing that information by the ETF ticker\n",
    "    \n",
    "    stock_log_returns[etf] = etf_stock_log_returns\n",
    "    stock_40_day_returns[etf] = etf_stock_40_day_returns\n",
    "    stock_40_day_alpha[etf] = etf_stock_40_day_alpha"
   ]
  },
  {
   "cell_type": "markdown",
   "id": "40296068",
   "metadata": {},
   "source": [
    "(4)  **Putting it all together.**  "
   ]
  },
  {
   "cell_type": "code",
   "execution_count": 168,
   "id": "86e2de52",
   "metadata": {},
   "outputs": [],
   "source": [
    "alphas = {}\n",
    "alphas_mean = {}\n",
    "\n",
    "for etf in etf_tickers:\n",
    "    \n",
    "    index = stock_40_day_alpha[etf].index \n",
    "    \n",
    "    outsiders = outsider_stocks[etf].shift(-1).reindex(index)\n",
    "    high_vol_neg_return = high_volume_neg_return_days[etf].reindex(index)\n",
    "    \n",
    "    outsiders = outsiders.mul(high_vol_neg_return, axis=0).replace(False, np.nan)\n",
    "    \n",
    "    alphas[etf] = outsiders * stock_40_day_alpha[etf]\n",
    "    \n",
    "    alphas[etf] = alphas[etf].dropna(how='all')\n",
    "    \n",
    "    alphas_mean[etf] = alphas[etf].mean(axis=1).mean()"
   ]
  }
 ],
 "metadata": {
  "kernelspec": {
   "display_name": "Python 3 (ipykernel)",
   "language": "python",
   "name": "python3"
  },
  "language_info": {
   "codemirror_mode": {
    "name": "ipython",
    "version": 3
   },
   "file_extension": ".py",
   "mimetype": "text/x-python",
   "name": "python",
   "nbconvert_exporter": "python",
   "pygments_lexer": "ipython3",
   "version": "3.11.7"
  }
 },
 "nbformat": 4,
 "nbformat_minor": 5
}
